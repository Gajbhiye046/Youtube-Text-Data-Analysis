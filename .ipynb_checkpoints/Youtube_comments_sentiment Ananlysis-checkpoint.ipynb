{
 "cells": [
  {
   "cell_type": "markdown",
   "id": "5d14f89a",
   "metadata": {},
   "source": [
    "### Perform Sentiment Analysis on youtube commnets"
   ]
  },
  {
   "cell_type": "code",
   "execution_count": 1,
   "id": "9f85b9be",
   "metadata": {},
   "outputs": [],
   "source": [
    "import pandas as pd\n",
    "import numpy as np\n",
    "import matplotlib.pyplot as plt\n",
    "import seaborn as sb"
   ]
  },
  {
   "cell_type": "code",
   "execution_count": 2,
   "id": "31aef93a",
   "metadata": {},
   "outputs": [
    {
     "name": "stderr",
     "output_type": "stream",
     "text": [
      "b'Skipping line 113225: expected 4 fields, saw 5\\n'\n",
      "b'Skipping line 158379: expected 4 fields, saw 7\\nSkipping line 241590: expected 4 fields, saw 5\\nSkipping line 245637: expected 4 fields, saw 7\\n'\n",
      "b'Skipping line 521402: expected 4 fields, saw 5\\n'\n"
     ]
    }
   ],
   "source": [
    "comments = pd.read_csv('GBcomments.csv',error_bad_lines = False)"
   ]
  },
  {
   "cell_type": "code",
   "execution_count": 3,
   "id": "d07e8c22",
   "metadata": {},
   "outputs": [
    {
     "data": {
      "text/html": [
       "<div>\n",
       "<style scoped>\n",
       "    .dataframe tbody tr th:only-of-type {\n",
       "        vertical-align: middle;\n",
       "    }\n",
       "\n",
       "    .dataframe tbody tr th {\n",
       "        vertical-align: top;\n",
       "    }\n",
       "\n",
       "    .dataframe thead th {\n",
       "        text-align: right;\n",
       "    }\n",
       "</style>\n",
       "<table border=\"1\" class=\"dataframe\">\n",
       "  <thead>\n",
       "    <tr style=\"text-align: right;\">\n",
       "      <th></th>\n",
       "      <th>video_id</th>\n",
       "      <th>comment_text</th>\n",
       "      <th>likes</th>\n",
       "      <th>replies</th>\n",
       "    </tr>\n",
       "  </thead>\n",
       "  <tbody>\n",
       "    <tr>\n",
       "      <th>0</th>\n",
       "      <td>jt2OHQh0HoQ</td>\n",
       "      <td>It's more accurate to call it the M+ (1000) be...</td>\n",
       "      <td>0</td>\n",
       "      <td>0</td>\n",
       "    </tr>\n",
       "    <tr>\n",
       "      <th>1</th>\n",
       "      <td>jt2OHQh0HoQ</td>\n",
       "      <td>To be there with a samsung phone\\n😂😂😂</td>\n",
       "      <td>1</td>\n",
       "      <td>0</td>\n",
       "    </tr>\n",
       "    <tr>\n",
       "      <th>2</th>\n",
       "      <td>jt2OHQh0HoQ</td>\n",
       "      <td>Thank gosh, a place I can watch it without hav...</td>\n",
       "      <td>0</td>\n",
       "      <td>0</td>\n",
       "    </tr>\n",
       "    <tr>\n",
       "      <th>3</th>\n",
       "      <td>jt2OHQh0HoQ</td>\n",
       "      <td>What happened to the home button on the iPhone...</td>\n",
       "      <td>0</td>\n",
       "      <td>0</td>\n",
       "    </tr>\n",
       "    <tr>\n",
       "      <th>4</th>\n",
       "      <td>jt2OHQh0HoQ</td>\n",
       "      <td>Power is the disease.  Care is the cure.  Keep...</td>\n",
       "      <td>0</td>\n",
       "      <td>0</td>\n",
       "    </tr>\n",
       "  </tbody>\n",
       "</table>\n",
       "</div>"
      ],
      "text/plain": [
       "      video_id                                       comment_text  likes  \\\n",
       "0  jt2OHQh0HoQ  It's more accurate to call it the M+ (1000) be...      0   \n",
       "1  jt2OHQh0HoQ              To be there with a samsung phone\\n😂😂😂      1   \n",
       "2  jt2OHQh0HoQ  Thank gosh, a place I can watch it without hav...      0   \n",
       "3  jt2OHQh0HoQ  What happened to the home button on the iPhone...      0   \n",
       "4  jt2OHQh0HoQ  Power is the disease.  Care is the cure.  Keep...      0   \n",
       "\n",
       "   replies  \n",
       "0        0  \n",
       "1        0  \n",
       "2        0  \n",
       "3        0  \n",
       "4        0  "
      ]
     },
     "execution_count": 3,
     "metadata": {},
     "output_type": "execute_result"
    }
   ],
   "source": [
    "comments.head()"
   ]
  },
  {
   "cell_type": "code",
   "execution_count": 4,
   "id": "cd1d8135",
   "metadata": {},
   "outputs": [],
   "source": [
    "#pip install textblob"
   ]
  },
  {
   "cell_type": "code",
   "execution_count": 5,
   "id": "a4055721",
   "metadata": {},
   "outputs": [],
   "source": [
    "from textblob import TextBlob "
   ]
  },
  {
   "cell_type": "code",
   "execution_count": 6,
   "id": "96572fe1",
   "metadata": {},
   "outputs": [
    {
     "data": {
      "text/plain": [
       "0.45000000000000007"
      ]
     },
     "execution_count": 6,
     "metadata": {},
     "output_type": "execute_result"
    }
   ],
   "source": [
    "TextBlob(\"It's more accurate to call it the M+ (1000) be...\").sentiment.polarity"
   ]
  },
  {
   "cell_type": "code",
   "execution_count": 7,
   "id": "1e88a61b",
   "metadata": {},
   "outputs": [
    {
     "data": {
      "text/plain": [
       "video_id         0\n",
       "comment_text    28\n",
       "likes            0\n",
       "replies          0\n",
       "dtype: int64"
      ]
     },
     "execution_count": 7,
     "metadata": {},
     "output_type": "execute_result"
    }
   ],
   "source": [
    "comments.isna().sum()\n"
   ]
  },
  {
   "cell_type": "code",
   "execution_count": 8,
   "id": "b47eb63f",
   "metadata": {},
   "outputs": [],
   "source": [
    "comments.dropna(inplace =True)"
   ]
  },
  {
   "cell_type": "code",
   "execution_count": null,
   "id": "559aa080",
   "metadata": {},
   "outputs": [],
   "source": [
    "pol =[]\n",
    "for i in comments['comment_text']:\n",
    "    pol.append(TextBlob(i).sentiment.polarity)"
   ]
  },
  {
   "cell_type": "code",
   "execution_count": null,
   "id": "1cd98381",
   "metadata": {},
   "outputs": [],
   "source": [
    "print (comments['comment_text'][1])"
   ]
  },
  {
   "cell_type": "code",
   "execution_count": null,
   "id": "4a5774d8",
   "metadata": {},
   "outputs": [],
   "source": [
    "comments['polarity']= pol"
   ]
  },
  {
   "cell_type": "code",
   "execution_count": null,
   "id": "1e99e202",
   "metadata": {
    "scrolled": true
   },
   "outputs": [],
   "source": [
    "comments.head(10)"
   ]
  },
  {
   "cell_type": "markdown",
   "id": "e87b7c2c",
   "metadata": {},
   "source": [
    "### Exploratory Data Analysis (EDA ) omn positive comments\n"
   ]
  },
  {
   "cell_type": "code",
   "execution_count": null,
   "id": "5227932b",
   "metadata": {},
   "outputs": [],
   "source": [
    "comments_positive = comments[comments['polarity']==1]"
   ]
  },
  {
   "cell_type": "code",
   "execution_count": null,
   "id": "1f164f2b",
   "metadata": {},
   "outputs": [],
   "source": [
    "comments_positive.shape"
   ]
  },
  {
   "cell_type": "code",
   "execution_count": null,
   "id": "0b3e0d68",
   "metadata": {},
   "outputs": [],
   "source": [
    "#!pip install wordcloud"
   ]
  },
  {
   "cell_type": "code",
   "execution_count": null,
   "id": "6db01171",
   "metadata": {},
   "outputs": [],
   "source": [
    "from wordcloud import WordCloud,STOPWORDS"
   ]
  },
  {
   "cell_type": "code",
   "execution_count": null,
   "id": "10e6b1be",
   "metadata": {},
   "outputs": [],
   "source": [
    "total_comments = ' '.join(comments_positive['comment_text'] )"
   ]
  },
  {
   "cell_type": "code",
   "execution_count": null,
   "id": "e2e1f615",
   "metadata": {},
   "outputs": [],
   "source": [
    "word_cloud =WordCloud(width =1000, height =500,stopwords = set(STOPWORDS)).generate(total_comments)"
   ]
  },
  {
   "cell_type": "code",
   "execution_count": null,
   "id": "ae7d86cd",
   "metadata": {},
   "outputs": [],
   "source": [
    "# plot the WordCloud image                       \n",
    "plt.figure(figsize = (15, 5), facecolor = None)\n",
    "plt.imshow(word_cloud)\n",
    "plt.axis(\"off\") \n",
    "plt.show()"
   ]
  },
  {
   "cell_type": "markdown",
   "id": "3dbc2786",
   "metadata": {},
   "source": [
    "### Exploratory Data Analysis (EDA ) on negative comments"
   ]
  },
  {
   "cell_type": "code",
   "execution_count": null,
   "id": "b579b556",
   "metadata": {},
   "outputs": [],
   "source": [
    "comments_negative = comments[comments['polarity']==-1]"
   ]
  },
  {
   "cell_type": "code",
   "execution_count": null,
   "id": "8fc276e9",
   "metadata": {},
   "outputs": [],
   "source": [
    "comments_negative.head()"
   ]
  },
  {
   "cell_type": "code",
   "execution_count": null,
   "id": "16c3f4a5",
   "metadata": {},
   "outputs": [],
   "source": [
    "total_comments_neg = \" \".join(comments_negative['comment_text'])"
   ]
  },
  {
   "cell_type": "code",
   "execution_count": null,
   "id": "f50114fe",
   "metadata": {},
   "outputs": [],
   "source": [
    "word_cloud_2 = WordCloud(width = 1000,height = 500,stopwords = set(STOPWORDS)).generate(total_comments_neg)"
   ]
  },
  {
   "cell_type": "code",
   "execution_count": null,
   "id": "32e1d10c",
   "metadata": {},
   "outputs": [],
   "source": [
    "# plot the WordCloud image                       \n",
    "plt.figure(figsize = (15, 5), facecolor = None)\n",
    "plt.imshow(word_cloud_2)\n",
    "plt.axis(\"off\")  \n",
    "plt.show()"
   ]
  },
  {
   "cell_type": "markdown",
   "id": "1a9c15a4",
   "metadata": {},
   "source": [
    "### Analysising tags! What are the most treanding tags on Youtube "
   ]
  },
  {
   "cell_type": "code",
   "execution_count": null,
   "id": "3615684e",
   "metadata": {},
   "outputs": [],
   "source": [
    "videos = pd.read_csv('GBvideos.csv',error_bad_lines= False)"
   ]
  },
  {
   "cell_type": "code",
   "execution_count": null,
   "id": "1ac7de9e",
   "metadata": {},
   "outputs": [],
   "source": [
    "videos.head()"
   ]
  },
  {
   "cell_type": "code",
   "execution_count": null,
   "id": "9d10b67f",
   "metadata": {},
   "outputs": [],
   "source": [
    "tags_complete = \" \".join(videos['tags'])"
   ]
  },
  {
   "cell_type": "code",
   "execution_count": null,
   "id": "a53a40b4",
   "metadata": {},
   "outputs": [],
   "source": [
    "tags_complete"
   ]
  },
  {
   "cell_type": "code",
   "execution_count": null,
   "id": "711d3b4c",
   "metadata": {},
   "outputs": [],
   "source": [
    "import re"
   ]
  },
  {
   "cell_type": "code",
   "execution_count": null,
   "id": "0ba5d588",
   "metadata": {},
   "outputs": [],
   "source": [
    "tags = re.sub('[^a-zA-Z]', ' ',tags_complete)"
   ]
  },
  {
   "cell_type": "code",
   "execution_count": null,
   "id": "cb81c3f5",
   "metadata": {},
   "outputs": [],
   "source": [
    "tags\n"
   ]
  },
  {
   "cell_type": "code",
   "execution_count": null,
   "id": "47b03987",
   "metadata": {},
   "outputs": [],
   "source": [
    "tags = re.sub(' +',' ',tags)"
   ]
  },
  {
   "cell_type": "code",
   "execution_count": null,
   "id": "61773c9e",
   "metadata": {},
   "outputs": [],
   "source": [
    "tags"
   ]
  },
  {
   "cell_type": "code",
   "execution_count": null,
   "id": "eb76bf7a",
   "metadata": {},
   "outputs": [],
   "source": [
    "word_cloud_3 = WordCloud(width = 1000, height = 500 ,stopwords = set(STOPWORDS)).generate(tags)  "
   ]
  },
  {
   "cell_type": "code",
   "execution_count": null,
   "id": "884aa8d7",
   "metadata": {
    "scrolled": true
   },
   "outputs": [],
   "source": [
    "# plot the WordCloud image                       \n",
    "plt.figure(figsize = (15, 5), facecolor = None)\n",
    "plt.imshow(word_cloud_3)\n",
    "plt.axis(\"off\")\n",
    "plt.tight_layout(pad = 0)\n",
    "  \n",
    "plt.show()"
   ]
  },
  {
   "cell_type": "markdown",
   "id": "c5e1cdf3",
   "metadata": {},
   "source": [
    "#### Perform Ananlysis on Likes, Dislikes, Comments and how they are correlated with each other"
   ]
  },
  {
   "cell_type": "code",
   "execution_count": null,
   "id": "b3e91908",
   "metadata": {},
   "outputs": [],
   "source": [
    "sb.regplot(x=videos['views'],\n",
    "    y=videos['likes'],\n",
    "    data=videos,)\n",
    "plt.title('Regressin plot of Views and likes')"
   ]
  },
  {
   "cell_type": "code",
   "execution_count": null,
   "id": "004c5f10",
   "metadata": {},
   "outputs": [],
   "source": [
    "sb.regplot(x=videos['views'],\n",
    "    y=videos['dislikes'],\n",
    "    data=videos,)\n",
    "plt.title('Regressin plot of Views and Dislikes')"
   ]
  },
  {
   "cell_type": "code",
   "execution_count": null,
   "id": "9e0a9dff",
   "metadata": {},
   "outputs": [],
   "source": [
    "df_corr = videos[['likes','views','dislikes']]"
   ]
  },
  {
   "cell_type": "code",
   "execution_count": null,
   "id": "e9325003",
   "metadata": {},
   "outputs": [],
   "source": [
    "df_corr.corr()"
   ]
  },
  {
   "cell_type": "code",
   "execution_count": null,
   "id": "4f27ef09",
   "metadata": {},
   "outputs": [],
   "source": [
    "sb.heatmap(df_corr.corr(),annot = True)"
   ]
  },
  {
   "cell_type": "markdown",
   "id": "bf8b3e55",
   "metadata": {},
   "source": [
    "#### Performing emoji Ananlysis"
   ]
  },
  {
   "cell_type": "code",
   "execution_count": null,
   "id": "09404ee5",
   "metadata": {},
   "outputs": [],
   "source": [
    "comments.head()"
   ]
  },
  {
   "cell_type": "code",
   "execution_count": null,
   "id": "0f64ea79",
   "metadata": {},
   "outputs": [],
   "source": [
    "comments['comment_text'][1]"
   ]
  },
  {
   "cell_type": "code",
   "execution_count": null,
   "id": "b3fcb073",
   "metadata": {},
   "outputs": [],
   "source": [
    "#!pip install emoji"
   ]
  },
  {
   "cell_type": "code",
   "execution_count": null,
   "id": "6b5eb604",
   "metadata": {},
   "outputs": [],
   "source": [
    "import emoji"
   ]
  },
  {
   "cell_type": "code",
   "execution_count": null,
   "id": "29fa515c",
   "metadata": {},
   "outputs": [],
   "source": [
    "comment = comments['comment_text'][1]\n",
    "comment"
   ]
  },
  {
   "cell_type": "code",
   "execution_count": null,
   "id": "46fe6e4a",
   "metadata": {},
   "outputs": [],
   "source": [
    "emoji.UNICODE_EMOJI_ENGLISH"
   ]
  },
  {
   "cell_type": "code",
   "execution_count": null,
   "id": "e184f3a8",
   "metadata": {},
   "outputs": [],
   "source": [
    "[ c for c in comment if c in emoji.UNICODE_EMOJI_ENGLISH]"
   ]
  },
  {
   "cell_type": "code",
   "execution_count": null,
   "id": "b6ea2f70",
   "metadata": {},
   "outputs": [],
   "source": [
    "str= ' '\n",
    "for i in comments['comment_text'] :\n",
    "    lst = [c for c in i if c in emoji.UNICODE_EMOJI_ENGLISH]\n",
    "    for ele in lst:\n",
    "        str = str + ele"
   ]
  },
  {
   "cell_type": "code",
   "execution_count": null,
   "id": "6b8977c5",
   "metadata": {},
   "outputs": [],
   "source": [
    "str"
   ]
  },
  {
   "cell_type": "code",
   "execution_count": null,
   "id": "9556e4cd",
   "metadata": {},
   "outputs": [],
   "source": [
    "result = {}\n",
    "for i in set(str):\n",
    "    result[i] = str.count(i)"
   ]
  },
  {
   "cell_type": "code",
   "execution_count": null,
   "id": "38a4e1cd",
   "metadata": {},
   "outputs": [],
   "source": [
    "result"
   ]
  },
  {
   "cell_type": "code",
   "execution_count": null,
   "id": "2274998f",
   "metadata": {},
   "outputs": [],
   "source": [
    "final ={}\n",
    "for key, value in sorted(result.items(),key = lambda kv:kv[1]):\n",
    "    final[key]= value"
   ]
  },
  {
   "cell_type": "code",
   "execution_count": null,
   "id": "8b1624e3",
   "metadata": {},
   "outputs": [],
   "source": [
    "final"
   ]
  },
  {
   "cell_type": "code",
   "execution_count": null,
   "id": "700dd5b3",
   "metadata": {},
   "outputs": [],
   "source": [
    "keys = [*final.keys()]\n",
    "values= [*final.values()]\n",
    "# * is unzip operator"
   ]
  },
  {
   "cell_type": "code",
   "execution_count": null,
   "id": "5fa11d2e",
   "metadata": {},
   "outputs": [],
   "source": [
    "df = pd.DataFrame({'chars':keys[-20:], 'Count': values[-20:]})"
   ]
  },
  {
   "cell_type": "code",
   "execution_count": null,
   "id": "d02c4e3a",
   "metadata": {},
   "outputs": [],
   "source": [
    "df"
   ]
  },
  {
   "cell_type": "code",
   "execution_count": null,
   "id": "0c4590f8",
   "metadata": {},
   "outputs": [],
   "source": [
    "#pip install \"notebook>=5.3\" \"ipywidgets>=7.5\" "
   ]
  },
  {
   "cell_type": "code",
   "execution_count": null,
   "id": "7fa01c13",
   "metadata": {},
   "outputs": [],
   "source": [
    "from plotly.offline import iplot\n",
    "import plotly.graph_objs as go"
   ]
  },
  {
   "cell_type": "code",
   "execution_count": null,
   "id": "c3aa6805",
   "metadata": {},
   "outputs": [],
   "source": []
  }
 ],
 "metadata": {
  "kernelspec": {
   "display_name": "Python 3",
   "language": "python",
   "name": "python3"
  },
  "language_info": {
   "codemirror_mode": {
    "name": "ipython",
    "version": 3
   },
   "file_extension": ".py",
   "mimetype": "text/x-python",
   "name": "python",
   "nbconvert_exporter": "python",
   "pygments_lexer": "ipython3",
   "version": "3.8.8"
  }
 },
 "nbformat": 4,
 "nbformat_minor": 5
}
